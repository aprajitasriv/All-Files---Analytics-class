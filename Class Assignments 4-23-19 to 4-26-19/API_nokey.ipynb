{
 "cells": [
  {
   "cell_type": "markdown",
   "metadata": {},
   "source": [
    "# Get Data Using API - no key\n",
    "\n",
    "API stands for Application Programming Interface. On a basic level, it allows a user to \"talk\" to another server and request information. The API receives the request and responds back with the information."
   ]
  },
  {
   "cell_type": "code",
   "execution_count": null,
   "metadata": {},
   "outputs": [],
   "source": [
    "import requests  #similar to urllib, this library allows a computer to ping a website\n",
    "import json      #library to handle JSON formatted data"
   ]
  },
  {
   "cell_type": "markdown",
   "metadata": {},
   "source": [
    "### The Walking Dead Episode Data via TVMaze API\n",
    "\n",
    "In this example, we do not need an API key (a method of authentication) in order to request data. So think of this method as being similar to web scraping but from the back end."
   ]
  },
  {
   "cell_type": "code",
   "execution_count": null,
   "metadata": {},
   "outputs": [],
   "source": [
    "#URL to TVMaze API\n",
    "url = r\"http://api.tvmaze.com/singlesearch/shows?q=the-walking-dead&embed=episodes\""
   ]
  },
  {
   "cell_type": "code",
   "execution_count": null,
   "metadata": {},
   "outputs": [],
   "source": [
    "#the get function checks to make sure that the website/server is responding back\n",
    "#200 means that we're good\n",
    "#https://www.restapitutorial.com/httpstatuscodes.html\n",
    "resp = requests.get(url)\n",
    "resp"
   ]
  },
  {
   "cell_type": "code",
   "execution_count": null,
   "metadata": {},
   "outputs": [],
   "source": [
    "#send a request to the website to return back text data from the API\n",
    "#returns data as JSON string\n",
    "str_data = resp.text\n",
    "str_data"
   ]
  },
  {
   "cell_type": "code",
   "execution_count": null,
   "metadata": {},
   "outputs": [],
   "source": [
    "#loads function reversed dictionary order\n",
    "#dictionary objects are unordered in general\n",
    "WDdata = json.loads(str_data)\n",
    "WDdata"
   ]
  },
  {
   "cell_type": "code",
   "execution_count": null,
   "metadata": {},
   "outputs": [],
   "source": [
    "#verify that JSON object is one big dictionary\n",
    "type(WDdata)"
   ]
  },
  {
   "cell_type": "code",
   "execution_count": null,
   "metadata": {},
   "outputs": [],
   "source": [
    "#first level keys in JSON object\n",
    "WDdata.keys()"
   ]
  },
  {
   "cell_type": "code",
   "execution_count": null,
   "metadata": {},
   "outputs": [],
   "source": [
    "#dumps function reverses order again\n",
    "#can currently see correct order of objects\n",
    "print(json.dumps(WDdata,indent=4))"
   ]
  },
  {
   "cell_type": "code",
   "execution_count": null,
   "metadata": {},
   "outputs": [],
   "source": [
    "#a single episode\n",
    "#dict['key']['key'][index]\n",
    "#dictionary name, dictionary key, dictionary key, then list index\n",
    "WDdata['_embedded']['episodes'][0]"
   ]
  },
  {
   "cell_type": "code",
   "execution_count": null,
   "metadata": {},
   "outputs": [],
   "source": [
    "#verify which keys we can get information from per episode\n",
    "WDdata['_embedded']['episodes'][0].keys()"
   ]
  },
  {
   "cell_type": "code",
   "execution_count": null,
   "metadata": {},
   "outputs": [],
   "source": [
    "#set list of episodes to variable\n",
    "#will cycle (iterate) through the list to get value of keys in episodes\n",
    "episodes = WDdata['_embedded']['episodes']"
   ]
  },
  {
   "cell_type": "code",
   "execution_count": null,
   "metadata": {},
   "outputs": [],
   "source": [
    "#set empty lists to hold each feature's information\n",
    "\n",
    "epnamels = [] #episode name\n",
    "seasonls = [] #season number\n",
    "epnumls = []  #episode number\n",
    "datels = []   #airdate\n",
    "timels = []   #airtime\n",
    "runls = []    #runtime\n",
    "epsumls = []  #summary"
   ]
  },
  {
   "cell_type": "code",
   "execution_count": null,
   "metadata": {},
   "outputs": [],
   "source": [
    "#make a function to remove <p> and </p> tags from summary text\n",
    "\n",
    "def cleanText(text):\n",
    "    import re\n",
    "    \n",
    "    clean = re.compile('<.*?>') #regular expression that looks for any pattern in a string that has <>\n",
    "    return re.sub(clean, '', text)"
   ]
  },
  {
   "cell_type": "code",
   "execution_count": null,
   "metadata": {},
   "outputs": [],
   "source": [
    "#test cleanText function\n",
    "teststr = WDdata['_embedded']['episodes'][0]['summary']\n",
    "\n",
    "cleanText(teststr)"
   ]
  },
  {
   "cell_type": "code",
   "execution_count": null,
   "metadata": {},
   "outputs": [],
   "source": [
    "#fill lists with data\n",
    "\n",
    "for episode in episodes:\n",
    "    \n",
    "    epnamels.append(episode['name'])\n",
    "    seasonls.append(episode['season'])\n",
    "    epnumls.append(episode['number'])\n",
    "    datels.append(episode['airdate'])\n",
    "    timels.append(episode['airtime'])\n",
    "    runls.append(episode['runtime'])\n",
    "    \n",
    "    #some episodes do not have a summary in them; causes error when appending to list\n",
    "    #will assign a value of None to append to list if episode summary raises error\n",
    "    try:\n",
    "        text = cleanText(episode['summary'])\n",
    "    except:\n",
    "        text = None\n",
    "        \n",
    "    epsumls.append(text)"
   ]
  },
  {
   "cell_type": "code",
   "execution_count": null,
   "metadata": {},
   "outputs": [],
   "source": [
    "#cleanText function worked\n",
    "epsumls[:5]"
   ]
  },
  {
   "cell_type": "code",
   "execution_count": null,
   "metadata": {},
   "outputs": [],
   "source": [
    "#verify that each list has same number of items\n",
    "print(len(epnamels))\n",
    "print(len(seasonls))\n",
    "print(len(epnumls))\n",
    "print(len(datels))\n",
    "print(len(timels))\n",
    "print(len(runls))\n",
    "print(len(epsumls))"
   ]
  },
  {
   "cell_type": "code",
   "execution_count": null,
   "metadata": {},
   "outputs": [],
   "source": [
    "#zip all lists together and make one big list of lists\n",
    "TWDlist = list(zip(epnamels, seasonls, epnumls, datels, timels, runls, epsumls))\n",
    "\n",
    "colnames = ['title', 'season', 'number', 'airdate', 'airtime', 'runtime', 'summary']"
   ]
  },
  {
   "cell_type": "code",
   "execution_count": null,
   "metadata": {},
   "outputs": [],
   "source": [
    "#make list into a dataframe\n",
    "\n",
    "import pandas as pd\n",
    "\n",
    "df = pd.DataFrame(TWDlist, columns=colnames)\n",
    "\n",
    "df.head()"
   ]
  }
 ],
 "metadata": {
  "kernelspec": {
   "display_name": "Python 3",
   "language": "python",
   "name": "python3"
  },
  "language_info": {
   "codemirror_mode": {
    "name": "ipython",
    "version": 3
   },
   "file_extension": ".py",
   "mimetype": "text/x-python",
   "name": "python",
   "nbconvert_exporter": "python",
   "pygments_lexer": "ipython3",
   "version": "3.6.2"
  }
 },
 "nbformat": 4,
 "nbformat_minor": 2
}
